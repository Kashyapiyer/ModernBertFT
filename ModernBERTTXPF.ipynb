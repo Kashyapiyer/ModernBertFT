{
  "nbformat": 4,
  "nbformat_minor": 0,
  "metadata": {
    "colab": {
      "provenance": [],
      "machine_shape": "hm",
      "gpuType": "A100"
    },
    "kernelspec": {
      "name": "python3",
      "display_name": "Python 3"
    },
    "language_info": {
      "name": "python"
    },
    "accelerator": "GPU"
  },
  "cells": [
    {
      "cell_type": "code",
      "execution_count": 1,
      "metadata": {
        "colab": {
          "base_uri": "https://localhost:8080/"
        },
        "id": "LWHVOInzx76H",
        "outputId": "4e5cb044-5c0c-42e0-ab4e-f281a3430a3d"
      },
      "outputs": [
        {
          "output_type": "stream",
          "name": "stdout",
          "text": [
            "  Preparing metadata (setup.py) ... \u001b[?25l\u001b[?25hdone\n",
            "\u001b[2K   \u001b[90m━━━━━━━━━━━━━━━━━━━━━━━━━━━━━━━━━━━━━━━━\u001b[0m \u001b[32m480.6/480.6 kB\u001b[0m \u001b[31m32.5 MB/s\u001b[0m eta \u001b[36m0:00:00\u001b[0m\n",
            "\u001b[2K   \u001b[90m━━━━━━━━━━━━━━━━━━━━━━━━━━━━━━━━━━━━━━━━\u001b[0m \u001b[32m84.0/84.0 kB\u001b[0m \u001b[31m9.0 MB/s\u001b[0m eta \u001b[36m0:00:00\u001b[0m\n",
            "\u001b[2K   \u001b[90m━━━━━━━━━━━━━━━━━━━━━━━━━━━━━━━━━━━━━━━━\u001b[0m \u001b[32m116.3/116.3 kB\u001b[0m \u001b[31m12.5 MB/s\u001b[0m eta \u001b[36m0:00:00\u001b[0m\n",
            "\u001b[2K   \u001b[90m━━━━━━━━━━━━━━━━━━━━━━━━━━━━━━━━━━━━━━━━\u001b[0m \u001b[32m179.3/179.3 kB\u001b[0m \u001b[31m19.3 MB/s\u001b[0m eta \u001b[36m0:00:00\u001b[0m\n",
            "\u001b[2K   \u001b[90m━━━━━━━━━━━━━━━━━━━━━━━━━━━━━━━━━━━━━━━━\u001b[0m \u001b[32m134.8/134.8 kB\u001b[0m \u001b[31m15.9 MB/s\u001b[0m eta \u001b[36m0:00:00\u001b[0m\n",
            "\u001b[2K   \u001b[90m━━━━━━━━━━━━━━━━━━━━━━━━━━━━━━━━━━━━━━━━\u001b[0m \u001b[32m194.1/194.1 kB\u001b[0m \u001b[31m19.0 MB/s\u001b[0m eta \u001b[36m0:00:00\u001b[0m\n",
            "\u001b[?25h  Building wheel for rouge_score (setup.py) ... \u001b[?25l\u001b[?25hdone\n",
            "\u001b[31mERROR: pip's dependency resolver does not currently take into account all the packages that are installed. This behaviour is the source of the following dependency conflicts.\n",
            "gcsfs 2024.10.0 requires fsspec==2024.10.0, but you have fsspec 2024.9.0 which is incompatible.\u001b[0m\u001b[31m\n",
            "\u001b[0m"
          ]
        }
      ],
      "source": [
        "dpath = \"/content/drive/MyDrive/datasets/\"\n",
        "rpath = f\"{dpath}requirements.txt\"\n",
        "!pip install -q -r {rpath}"
      ]
    },
    {
      "cell_type": "code",
      "source": [
        "!pip install -q tqdm datasets"
      ],
      "metadata": {
        "id": "67xet-cHzve_"
      },
      "execution_count": 2,
      "outputs": []
    },
    {
      "cell_type": "code",
      "source": [
        "!pip install git+https://github.com/huggingface/transformers.git"
      ],
      "metadata": {
        "colab": {
          "base_uri": "https://localhost:8080/",
          "height": 742
        },
        "id": "Kss-LVpB3nrR",
        "outputId": "f24d87ac-c86c-4849-fe98-9e393e4b855c"
      },
      "execution_count": 4,
      "outputs": [
        {
          "output_type": "stream",
          "name": "stdout",
          "text": [
            "Collecting git+https://github.com/huggingface/transformers.git\n",
            "  Cloning https://github.com/huggingface/transformers.git to /tmp/pip-req-build-hgl29p34\n",
            "  Running command git clone --filter=blob:none --quiet https://github.com/huggingface/transformers.git /tmp/pip-req-build-hgl29p34\n",
            "  Resolved https://github.com/huggingface/transformers.git to commit e5fd865ebae062b7cf03a81b8c6affeb39f30bec\n",
            "  Installing build dependencies ... \u001b[?25l\u001b[?25hdone\n",
            "  Getting requirements to build wheel ... \u001b[?25l\u001b[?25hdone\n",
            "  Preparing metadata (pyproject.toml) ... \u001b[?25l\u001b[?25hdone\n",
            "Requirement already satisfied: filelock in /usr/local/lib/python3.10/dist-packages (from transformers==4.48.0.dev0) (3.16.1)\n",
            "Requirement already satisfied: huggingface-hub<1.0,>=0.24.0 in /usr/local/lib/python3.10/dist-packages (from transformers==4.48.0.dev0) (0.27.0)\n",
            "Requirement already satisfied: numpy>=1.17 in /usr/local/lib/python3.10/dist-packages (from transformers==4.48.0.dev0) (1.26.4)\n",
            "Requirement already satisfied: packaging>=20.0 in /usr/local/lib/python3.10/dist-packages (from transformers==4.48.0.dev0) (24.2)\n",
            "Requirement already satisfied: pyyaml>=5.1 in /usr/local/lib/python3.10/dist-packages (from transformers==4.48.0.dev0) (6.0.2)\n",
            "Requirement already satisfied: regex!=2019.12.17 in /usr/local/lib/python3.10/dist-packages (from transformers==4.48.0.dev0) (2024.11.6)\n",
            "Requirement already satisfied: requests in /usr/local/lib/python3.10/dist-packages (from transformers==4.48.0.dev0) (2.32.3)\n",
            "Requirement already satisfied: tokenizers<0.22,>=0.21 in /usr/local/lib/python3.10/dist-packages (from transformers==4.48.0.dev0) (0.21.0)\n",
            "Requirement already satisfied: safetensors>=0.4.1 in /usr/local/lib/python3.10/dist-packages (from transformers==4.48.0.dev0) (0.4.5)\n",
            "Requirement already satisfied: tqdm>=4.27 in /usr/local/lib/python3.10/dist-packages (from transformers==4.48.0.dev0) (4.67.1)\n",
            "Requirement already satisfied: fsspec>=2023.5.0 in /usr/local/lib/python3.10/dist-packages (from huggingface-hub<1.0,>=0.24.0->transformers==4.48.0.dev0) (2024.9.0)\n",
            "Requirement already satisfied: typing-extensions>=3.7.4.3 in /usr/local/lib/python3.10/dist-packages (from huggingface-hub<1.0,>=0.24.0->transformers==4.48.0.dev0) (4.12.2)\n",
            "Requirement already satisfied: charset-normalizer<4,>=2 in /usr/local/lib/python3.10/dist-packages (from requests->transformers==4.48.0.dev0) (3.4.0)\n",
            "Requirement already satisfied: idna<4,>=2.5 in /usr/local/lib/python3.10/dist-packages (from requests->transformers==4.48.0.dev0) (3.10)\n",
            "Requirement already satisfied: urllib3<3,>=1.21.1 in /usr/local/lib/python3.10/dist-packages (from requests->transformers==4.48.0.dev0) (2.2.3)\n",
            "Requirement already satisfied: certifi>=2017.4.17 in /usr/local/lib/python3.10/dist-packages (from requests->transformers==4.48.0.dev0) (2024.12.14)\n",
            "Building wheels for collected packages: transformers\n",
            "  Building wheel for transformers (pyproject.toml) ... \u001b[?25l\u001b[?25hdone\n",
            "  Created wheel for transformers: filename=transformers-4.48.0.dev0-py3-none-any.whl size=10329101 sha256=2b26d6b57b83c0bc4b77bb9ef33ef3045b6c6f8246e383ce1d4c714a90d5d93e\n",
            "  Stored in directory: /tmp/pip-ephem-wheel-cache-my2dc4a0/wheels/e7/9c/5b/e1a9c8007c343041e61cc484433d512ea9274272e3fcbe7c16\n",
            "Successfully built transformers\n",
            "Installing collected packages: transformers\n",
            "  Attempting uninstall: transformers\n",
            "    Found existing installation: transformers 4.47.1\n",
            "    Uninstalling transformers-4.47.1:\n",
            "      Successfully uninstalled transformers-4.47.1\n",
            "Successfully installed transformers-4.48.0.dev0\n"
          ]
        },
        {
          "output_type": "display_data",
          "data": {
            "application/vnd.colab-display-data+json": {
              "pip_warning": {
                "packages": [
                  "transformers"
                ]
              },
              "id": "7604bdd34dbe437885399fddb3ec7880"
            }
          },
          "metadata": {}
        }
      ]
    },
    {
      "cell_type": "code",
      "source": [
        "import nltk\n",
        "import evaluate\n",
        "import numpy as np\n",
        "from datasets import load_dataset\n",
        "import os,torch\n",
        "from huggingface_hub import HfFolder, login"
      ],
      "metadata": {
        "id": "n57QSCczy7ic"
      },
      "execution_count": 1,
      "outputs": []
    },
    {
      "cell_type": "code",
      "source": [
        "import pandas as pd\n",
        "from transformers import AutoTokenizer, AutoModelForSequenceClassification, AutoConfig, ModernBertModel,AdamW\n",
        "from transformers import  AutoConfig, AutoModel\n",
        "from torch.utils.data import Dataset, DataLoader\n",
        "from sklearn.model_selection import train_test_split\n",
        "from sklearn.metrics import roc_curve, precision_recall_curve, confusion_matrix, auc, recall_score, f1_score, classification_report\n",
        "import matplotlib.pyplot as plt\n",
        "import seaborn as sns\n",
        "import gc\n",
        "from tqdm import tqdm\n",
        "from torch.cuda.amp import autocast, GradScaler\n",
        "import torch.nn as nn"
      ],
      "metadata": {
        "id": "zYyXHzWdzoSF"
      },
      "execution_count": 2,
      "outputs": []
    },
    {
      "cell_type": "code",
      "source": [
        "pd.set_option('display.max_rows', None)\n",
        "pd.set_option('display.max_colwidth', None)"
      ],
      "metadata": {
        "id": "rtBTsm4-smfd"
      },
      "execution_count": 3,
      "outputs": []
    },
    {
      "cell_type": "code",
      "source": [
        "df = pd.read_csv(\"/content/combined_txpf.csv\")"
      ],
      "metadata": {
        "id": "QOAEwZrX7DPo"
      },
      "execution_count": 4,
      "outputs": []
    },
    {
      "cell_type": "code",
      "source": [
        "from datasets import Dataset\n",
        "ds = Dataset.from_pandas(df)"
      ],
      "metadata": {
        "id": "SGZpmmpOxiGv"
      },
      "execution_count": 5,
      "outputs": []
    },
    {
      "cell_type": "code",
      "source": [
        "ds"
      ],
      "metadata": {
        "colab": {
          "base_uri": "https://localhost:8080/"
        },
        "id": "acw7qmxRyBPh",
        "outputId": "cd0fe5c0-4df4-4615-f4c8-893f140d786c"
      },
      "execution_count": null,
      "outputs": [
        {
          "output_type": "execute_result",
          "data": {
            "text/plain": [
              "Dataset({\n",
              "    features: ['label', 'comment_text', 'source'],\n",
              "    num_rows: 126339\n",
              "})"
            ]
          },
          "metadata": {},
          "execution_count": 27
        }
      ]
    },
    {
      "cell_type": "code",
      "source": [
        "filtered_sample = df[df['source'].isin(['ctx', 'tpf'])].sample(n=10, random_state=42)"
      ],
      "metadata": {
        "id": "UTjjbcqkFl6n"
      },
      "execution_count": null,
      "outputs": []
    },
    {
      "cell_type": "code",
      "source": [
        "filtered_sample"
      ],
      "metadata": {
        "id": "V5YL70bfZRaf"
      },
      "execution_count": null,
      "outputs": []
    },
    {
      "cell_type": "markdown",
      "source": [],
      "metadata": {
        "id": "vpxLHP-WYwG2"
      }
    },
    {
      "cell_type": "code",
      "source": [
        "from mbrtclassifier import *\n",
        "from dataprocessing import *"
      ],
      "metadata": {
        "id": "Z09Uq0_r1667"
      },
      "execution_count": 24,
      "outputs": []
    },
    {
      "cell_type": "markdown",
      "source": [
        "# Model specific config"
      ],
      "metadata": {
        "id": "v7WWLRd00VEX"
      }
    },
    {
      "cell_type": "code",
      "source": [
        "from evalmetrics import plot_metrics\n",
        "\n",
        "def evaluate_model(model, data_loader, device, class_weights=None, criterion=None):\n",
        "    \"\"\"\n",
        "    Uses softmax to convert the logits  to probablities\n",
        "    Gets the class with highest propability using argmax\n",
        "    \"\"\"\n",
        "    model.eval()\n",
        "    total_loss = 0\n",
        "    all_preds,all_labels,all_probs,all_indices = [],[],[],[]\n",
        "\n",
        "    with torch.no_grad():\n",
        "        for batch in data_loader:\n",
        "            input_ids = batch['input_ids'].to(device)\n",
        "            attention_mask = batch['attention_mask'].to(device)\n",
        "            labels = batch['label'].to(device)\n",
        "            indices = batch['idx']\n",
        "\n",
        "            logits, _ = model(input_ids, attention_mask)\n",
        "            if criterion is not None:\n",
        "                loss = criterion(logits, labels)\n",
        "                total_loss += loss.item()\n",
        "\n",
        "            probs = torch.softmax(logits, dim=1)\n",
        "            preds = torch.argmax(logits, dim=1)\n",
        "\n",
        "            all_preds.extend(preds.cpu().numpy())\n",
        "            all_labels.extend(labels.cpu().numpy())\n",
        "            all_probs.extend(probs[:, 1].cpu().numpy())\n",
        "            all_indices.extend(indices.numpy())\n",
        "\n",
        "    metrics = {\n",
        "        'predictions': all_preds,\n",
        "        'labels': all_labels,\n",
        "        'probabilities': all_probs,\n",
        "        'indices': all_indices,\n",
        "        'recall': recall_score(all_labels, all_preds),\n",
        "        'loss': total_loss / len(data_loader) if criterion is not None else None\n",
        "    }\n",
        "\n",
        "    return metrics\n",
        "\n",
        "def train_model(config,model,train_loader, val_loader, test_loader, num_epochs=10,patiencestep=3,lrate=2e-5,weight_decay=0.01,factorrate=0.1,max_norm=1.0):\n",
        "    \"\"\"\n",
        "    uses LR scheduler to reduce learning rate when the validation metric (recall) plateaus. This helps to fine-tune the model and prevent overfitting.\n",
        "    \"\"\"\n",
        "    device = torch.device('cuda' if torch.cuda.is_available() else 'cpu')\n",
        "    model.to(device)\n",
        "    class_weights = config['class_weights'].to(device)\n",
        "    criterion = nn.CrossEntropyLoss(weight=class_weights)\n",
        "\n",
        "    optimizer = AdamW(model.parameters(), lr=lrate, weight_decay=weight_decay)\n",
        "    scheduler = torch.optim.lr_scheduler.ReduceLROnPlateau(\n",
        "        optimizer, mode='max', factor=factorrate, patience=patiencestep, verbose=True\n",
        "    )\n",
        "\n",
        "    # early stopping and metrics initialization\n",
        "    best_val_recall = 0\n",
        "    patience = patiencestep\n",
        "    patience_counter = 0\n",
        "\n",
        "    early_stopping = EarlyStopping(patience=patiencestep)\n",
        "\n",
        "    train_losses,val_losses,val_recalls,all_labels,all_probs = [],[],[],[],[]\n",
        "\n",
        "    for epoch in range(config['epochs']):\n",
        "        print(f'\\nEpoch {epoch + 1}/{config[\"epochs\"]}')\n",
        "\n",
        "        # Training Mode\n",
        "        model.train()\n",
        "        total_train_loss = 0\n",
        "\n",
        "        for batch in tqdm(train_loader, desc=f'Epoch {epoch + 1}/{num_epochs}'):\n",
        "            input_ids = batch['input_ids'].to(device)\n",
        "            attention_mask = batch['attention_mask'].to(device)\n",
        "            labels = batch['label'].to(device)\n",
        "\n",
        "            optimizer.zero_grad()\n",
        "            outputs, _ = model(input_ids, attention_mask, labels-labels)\n",
        "\n",
        "            loss = criterion(outputs, labels)\n",
        "            loss.backward()\n",
        "            torch.nn.utils.clip_grad_norm_(model.parameters(), max_norm=max_norm)\n",
        "            optimizer.step()\n",
        "\n",
        "            total_train_loss += loss.item()\n",
        "        avg_train_loss = total_train_loss / len(train_loader)\n",
        "        train_losses.append(avg_train_loss)\n",
        "\n",
        "        # Validation Mode\n",
        "        val_metrics = evaluate_model(\n",
        "            model,\n",
        "            val_loader,\n",
        "            device,\n",
        "            class_weights,\n",
        "            criterion\n",
        "        )\n",
        "        val_losses.append(val_metrics['loss'])\n",
        "        val_recalls.append(val_metrics['recall'])\n",
        "\n",
        "        # Assign val_preds from the validation metrics returned in val_metrics\n",
        "        val_preds = val_metrics['predictions']\n",
        "        val_labels = val_metrics['labels']\n",
        "\n",
        "        all_labels.extend(val_metrics['labels'])\n",
        "        all_probs.extend(val_metrics['probabilities'])\n",
        "\n",
        "        print(f'Epoch {epoch + 1}:')\n",
        "        print(f'Training Loss: {avg_train_loss:.4f}')\n",
        "        print(f'Validation Loss: {val_metrics[\"loss\"]:.4f}')\n",
        "        print('\\nValidation Classification Report:')\n",
        "        print(classification_report(val_labels, val_preds))\n",
        "        #print(f'Val Recall: {val_metrics[\"recall\"]:.4f}')\n",
        "\n",
        "        scheduler.step(val_metrics['recall'])\n",
        "\n",
        "        if val_metrics['recall'] > best_val_recall:\n",
        "            best_val_recall = val_metrics['recall']\n",
        "            patience_counter = 0\n",
        "            torch.save(model.state_dict(), 'best_model.pt')\n",
        "        else:\n",
        "            patience_counter += 1\n",
        "            if patience_counter >= patience:\n",
        "                print(\"Early stopping triggered!\")\n",
        "                break\n",
        "\n",
        "    # Final evaluation on test set\n",
        "    test_metrics = evaluate_model(\n",
        "        model,\n",
        "        test_loader,\n",
        "        device,\n",
        "        class_weights,\n",
        "        criterion\n",
        "    )\n",
        "\n",
        "    print('\\nTest Set Results:')\n",
        "    print(f'Test Loss: {test_metrics[\"loss\"]:.4f}')\n",
        "    print('\\nTest Classification Report:')\n",
        "    print(classification_report(test_metrics['labels'], test_metrics['predictions']))\n",
        "\n",
        "    # Plot confusion matrix\n",
        "    plot_metrics(train_losses, val_losses, all_labels, all_probs, val_preds, test_metrics)\n",
        "\n",
        "    return train_losses, val_losses, val_recalls, model"
      ],
      "metadata": {
        "id": "1n58FnWp2wah"
      },
      "execution_count": 17,
      "outputs": []
    },
    {
      "cell_type": "code",
      "source": [
        "config = {\n",
        "    'model_name': 'answerdotai/ModernBERT-base',\n",
        "    'max_length': 128,\n",
        "    'batch_size': 32,\n",
        "    'learning_rate': 2e-5,\n",
        "    'epochs': 10,\n",
        "    'dropout_rate': 0.2,\n",
        "    'hidden_dropout_rate': 0.3,\n",
        "    'outputmdlpath' : '/content/drive/MyDrive/ftmodernbrta',\n",
        "\n",
        "}"
      ],
      "metadata": {
        "id": "NWdqaHMh1SGe"
      },
      "execution_count": 19,
      "outputs": []
    },
    {
      "cell_type": "code",
      "source": [
        "ds_df = df"
      ],
      "metadata": {
        "id": "S9A7KWkyux_8"
      },
      "execution_count": null,
      "outputs": []
    },
    {
      "cell_type": "code",
      "source": [
        "df.columns.value_counts()"
      ],
      "metadata": {
        "colab": {
          "base_uri": "https://localhost:8080/",
          "height": 178
        },
        "id": "pm_F4Eypu7m4",
        "outputId": "4782a7cb-b476-4da0-c84a-68f36663405c"
      },
      "execution_count": 10,
      "outputs": [
        {
          "output_type": "execute_result",
          "data": {
            "text/plain": [
              "label           1\n",
              "comment_text    1\n",
              "source          1\n",
              "Name: count, dtype: int64"
            ],
            "text/html": [
              "<div>\n",
              "<style scoped>\n",
              "    .dataframe tbody tr th:only-of-type {\n",
              "        vertical-align: middle;\n",
              "    }\n",
              "\n",
              "    .dataframe tbody tr th {\n",
              "        vertical-align: top;\n",
              "    }\n",
              "\n",
              "    .dataframe thead th {\n",
              "        text-align: right;\n",
              "    }\n",
              "</style>\n",
              "<table border=\"1\" class=\"dataframe\">\n",
              "  <thead>\n",
              "    <tr style=\"text-align: right;\">\n",
              "      <th></th>\n",
              "      <th>count</th>\n",
              "    </tr>\n",
              "  </thead>\n",
              "  <tbody>\n",
              "    <tr>\n",
              "      <th>label</th>\n",
              "      <td>1</td>\n",
              "    </tr>\n",
              "    <tr>\n",
              "      <th>comment_text</th>\n",
              "      <td>1</td>\n",
              "    </tr>\n",
              "    <tr>\n",
              "      <th>source</th>\n",
              "      <td>1</td>\n",
              "    </tr>\n",
              "  </tbody>\n",
              "</table>\n",
              "</div><br><label><b>dtype:</b> int64</label>"
            ]
          },
          "metadata": {},
          "execution_count": 10
        }
      ]
    },
    {
      "cell_type": "code",
      "source": [
        "#Calculate class weights\n",
        "labelcol = 'label'\n",
        "class_weights = calculate_class_weights(df[labelcol].values)\n",
        "config['class_weights'] = class_weights\n",
        "print(\"\\nClass Weights:\")\n",
        "print(class_weights)\n",
        "\n",
        "# Calculate class distribution\n",
        "class_distribution = df[labelcol].value_counts()\n",
        "print(\"\\nClass Distribution:\")\n",
        "print(class_distribution)\n",
        "print(\"\\nClass Distribution (%):\")\n",
        "print(class_distribution / len(df) * 100)"
      ],
      "metadata": {
        "colab": {
          "base_uri": "https://localhost:8080/"
        },
        "id": "glQmaLmb59MT",
        "outputId": "63d08828-c258-4fa6-ac44-447917c52ca6"
      },
      "execution_count": 20,
      "outputs": [
        {
          "output_type": "stream",
          "name": "stdout",
          "text": [
            "\n",
            "Class Weights:\n",
            "tensor([0.7641, 1.4466])\n",
            "\n",
            "Class Distribution:\n",
            "label\n",
            "0    82672\n",
            "1    43667\n",
            "Name: count, dtype: int64\n",
            "\n",
            "Class Distribution (%):\n",
            "label\n",
            "0    65.436643\n",
            "1    34.563357\n",
            "Name: count, dtype: float64\n"
          ]
        }
      ]
    },
    {
      "cell_type": "code",
      "source": [
        "device = torch.device('cuda' if torch.cuda.is_available() else 'cpu')\n",
        "tokenizer = AutoTokenizer.from_pretrained(\"answerdotai/ModernBERT-base\")\n",
        "# Initialize\n",
        "model = CustomModernBERTClassifier().to(device)"
      ],
      "metadata": {
        "id": "-tDDWwFX0UEV"
      },
      "execution_count": 26,
      "outputs": []
    },
    {
      "cell_type": "code",
      "source": [
        "train_dataset, val_dataset, test_dataset = create_data_splits(\n",
        "        texts=ds['comment_text'],\n",
        "        labels=ds['label'],\n",
        "        tokenizer=tokenizer,\n",
        "        test_size=0.20,\n",
        "        val_size=0.25\n",
        "    )\n",
        "\n",
        "print(f\"Training set size: {len(train_dataset)}\")\n",
        "print(f\"Validation set size: {len(val_dataset)}\")\n",
        "print(f\"Test set size: {len(test_dataset)}\")\n",
        "\n",
        "# Create data loaders\n",
        "train_loader = DataLoader(\n",
        "    train_dataset,\n",
        "    batch_size=16,\n",
        "    shuffle=True\n",
        ")\n",
        "val_loader = DataLoader(\n",
        "    val_dataset,\n",
        "    batch_size=16\n",
        ")\n",
        "test_loader = DataLoader(\n",
        "    test_dataset,\n",
        "    batch_size=16\n",
        ")\n",
        "\n",
        "# train model\n",
        "train_losses, val_losses, val_recalls, _ = train_model(\n",
        "     config, model, train_loader, val_loader, test_loader\n",
        "  )\n",
        "\n",
        "# Load best model and evaluate by loading model weights onto the correct device\n",
        "state_dict = torch.load('best_model.pt', map_location=device, weights_only=True)\n",
        "\n",
        "# Load  weights and other necessary state information into the model\n",
        "model.load_state_dict(state_dict)\n",
        "\n",
        "test_metrics = evaluate_model(model, test_loader, device)"
      ],
      "metadata": {
        "colab": {
          "base_uri": "https://localhost:8080/",
          "height": 1000
        },
        "id": "K3P6--5Ay6on",
        "outputId": "c689f567-bee7-41f4-e2e4-ab43d04a2f4c"
      },
      "execution_count": 27,
      "outputs": [
        {
          "metadata": {
            "tags": null
          },
          "name": "stderr",
          "output_type": "stream",
          "text": [
            "/usr/local/lib/python3.10/dist-packages/transformers/optimization.py:591: FutureWarning: This implementation of AdamW is deprecated and will be removed in a future version. Use the PyTorch implementation torch.optim.AdamW instead, or set `no_deprecation_warning=True` to disable this warning\n",
            "  warnings.warn(\n"
          ]
        },
        {
          "metadata": {
            "tags": null
          },
          "name": "stdout",
          "output_type": "stream",
          "text": [
            "Training set size: 75803\n",
            "Validation set size: 25268\n",
            "Test set size: 25268\n",
            "\n",
            "Epoch 1/10\n"
          ]
        },
        {
          "metadata": {
            "tags": null
          },
          "name": "stderr",
          "output_type": "stream",
          "text": [
            "Epoch 1/10: 100%|██████████| 4738/4738 [17:20<00:00,  4.55it/s]\n"
          ]
        },
        {
          "metadata": {
            "tags": null
          },
          "name": "stdout",
          "output_type": "stream",
          "text": [
            "Epoch 1:\n",
            "Training Loss: 0.1710\n",
            "Validation Loss: 0.1535\n",
            "\n",
            "Validation Classification Report:\n",
            "              precision    recall  f1-score   support\n",
            "\n",
            "           0       0.96      0.98      0.97     16534\n",
            "           1       0.96      0.93      0.94      8734\n",
            "\n",
            "    accuracy                           0.96     25268\n",
            "   macro avg       0.96      0.95      0.96     25268\n",
            "weighted avg       0.96      0.96      0.96     25268\n",
            "\n",
            "\n",
            "Epoch 2/10\n"
          ]
        },
        {
          "metadata": {
            "tags": null
          },
          "name": "stderr",
          "output_type": "stream",
          "text": [
            "Epoch 2/10: 100%|██████████| 4738/4738 [17:20<00:00,  4.55it/s]\n"
          ]
        },
        {
          "metadata": {
            "tags": null
          },
          "name": "stdout",
          "output_type": "stream",
          "text": [
            "Epoch 2:\n",
            "Training Loss: 0.0907\n",
            "Validation Loss: 0.1418\n",
            "\n",
            "Validation Classification Report:\n",
            "              precision    recall  f1-score   support\n",
            "\n",
            "           0       0.98      0.96      0.97     16534\n",
            "           1       0.92      0.96      0.94      8734\n",
            "\n",
            "    accuracy                           0.96     25268\n",
            "   macro avg       0.95      0.96      0.96     25268\n",
            "weighted avg       0.96      0.96      0.96     25268\n",
            "\n",
            "\n",
            "Epoch 3/10\n"
          ]
        },
        {
          "metadata": {
            "tags": null
          },
          "name": "stderr",
          "output_type": "stream",
          "text": [
            "Epoch 3/10: 100%|██████████| 4738/4738 [17:20<00:00,  4.55it/s]\n"
          ]
        },
        {
          "metadata": {
            "tags": null
          },
          "name": "stdout",
          "output_type": "stream",
          "text": [
            "Epoch 3:\n",
            "Training Loss: 0.0439\n",
            "Validation Loss: 0.2458\n",
            "\n",
            "Validation Classification Report:\n",
            "              precision    recall  f1-score   support\n",
            "\n",
            "           0       0.97      0.97      0.97     16534\n",
            "           1       0.95      0.94      0.94      8734\n",
            "\n",
            "    accuracy                           0.96     25268\n",
            "   macro avg       0.96      0.95      0.96     25268\n",
            "weighted avg       0.96      0.96      0.96     25268\n",
            "\n",
            "\n",
            "Epoch 4/10\n"
          ]
        },
        {
          "output_type": "stream",
          "name": "stderr",
          "text": [
            "Epoch 4/10: 100%|██████████| 4738/4738 [17:19<00:00,  4.56it/s]\n"
          ]
        },
        {
          "output_type": "stream",
          "name": "stdout",
          "text": [
            "Epoch 4:\n",
            "Training Loss: 0.0246\n",
            "Validation Loss: 0.2680\n",
            "\n",
            "Validation Classification Report:\n",
            "              precision    recall  f1-score   support\n",
            "\n",
            "           0       0.97      0.97      0.97     16534\n",
            "           1       0.95      0.94      0.94      8734\n",
            "\n",
            "    accuracy                           0.96     25268\n",
            "   macro avg       0.96      0.96      0.96     25268\n",
            "weighted avg       0.96      0.96      0.96     25268\n",
            "\n",
            "\n",
            "Epoch 5/10\n"
          ]
        },
        {
          "output_type": "stream",
          "name": "stderr",
          "text": [
            "Epoch 5/10: 100%|██████████| 4738/4738 [17:20<00:00,  4.55it/s]\n"
          ]
        },
        {
          "output_type": "stream",
          "name": "stdout",
          "text": [
            "Epoch 5:\n",
            "Training Loss: 0.0191\n",
            "Validation Loss: 0.2524\n",
            "\n",
            "Validation Classification Report:\n",
            "              precision    recall  f1-score   support\n",
            "\n",
            "           0       0.97      0.97      0.97     16534\n",
            "           1       0.94      0.95      0.94      8734\n",
            "\n",
            "    accuracy                           0.96     25268\n",
            "   macro avg       0.96      0.96      0.96     25268\n",
            "weighted avg       0.96      0.96      0.96     25268\n",
            "\n",
            "Early stopping triggered!\n",
            "\n",
            "Test Set Results:\n",
            "Test Loss: 0.2632\n",
            "\n",
            "Test Classification Report:\n",
            "              precision    recall  f1-score   support\n",
            "\n",
            "           0       0.97      0.97      0.97     16535\n",
            "           1       0.95      0.94      0.94      8733\n",
            "\n",
            "    accuracy                           0.96     25268\n",
            "   macro avg       0.96      0.96      0.96     25268\n",
            "weighted avg       0.96      0.96      0.96     25268\n",
            "\n"
          ]
        },
        {
          "output_type": "display_data",
          "data": {
            "text/plain": [
              "<Figure size 1500x500 with 3 Axes>"
            ],
            "image/png": "[encoded data removed]"
          },
          "metadata": {}
        },
        {
          "output_type": "display_data",
          "data": {
            "text/plain": [
              "<Figure size 800x600 with 2 Axes>"
            ],
            "image/png": "[encoded data removed]"
          },
          "metadata": {}
        }
      ]
    },
    {
      "cell_type": "code",
      "source": [
        "# Save the model and tokenizer\n",
        "OUTPUT_DIR = '/content/drive/MyDrive/ftmodernbrta'\n",
        "# Save the model weights using torch.save\n",
        "torch.save(model.state_dict(), f\"{OUTPUT_DIR}/pytorch_model.bin\")\n",
        "# Save the tokenizer\n",
        "tokenizer.save_pretrained(OUTPUT_DIR)\n",
        "print(f\"Model weights saved to {OUTPUT_DIR}/pytorch_model.bin\")\n",
        "print(f\"Tokenizer saved to {OUTPUT_DIR}\")\n",
        "\n",
        "model.config.save_pretrained(OUTPUT_DIR) # Save the model config\n",
        "print(f\"Model config saved to {OUTPUT_DIR}/config.json\")"
      ],
      "metadata": {
        "colab": {
          "base_uri": "https://localhost:8080/"
        },
        "id": "t2OgaWI_FrQn",
        "outputId": "adf1bf76-8cbc-41d2-b917-72cb61941a21"
      },
      "execution_count": 29,
      "outputs": [
        {
          "output_type": "stream",
          "name": "stdout",
          "text": [
            "Model weights saved to /content/drive/MyDrive/ftmodernbrta/pytorch_model.bin\n",
            "Tokenizer saved to /content/drive/MyDrive/ftmodernbrta\n",
            "Model config saved to /content/drive/MyDrive/ftmodernbrta/config.json\n"
          ]
        }
      ]
    },
    {
      "cell_type": "code",
      "source": [
        "plot_metrics(train_losses, val_losses, test_metrics['labels'], test_metrics['probabilities'], val_recalls, test_metrics)\n"
      ],
      "metadata": {
        "id": "VGpUeobT57N0"
      },
      "execution_count": null,
      "outputs": []
    },
    {
      "cell_type": "code",
      "source": [
        "from evalmetrics import analyze_errors, display_error_analysis"
      ],
      "metadata": {
        "id": "ffhl1vp-IxUV"
      },
      "execution_count": 56,
      "outputs": []
    },
    {
      "cell_type": "code",
      "source": [
        "  # Analyze errors\n",
        "  org_dataset = ProcessDataset(texts=ds['comment_text'],\n",
        "                          labels=ds['label'],\n",
        "                          tokenizer=tokenizer)\n",
        "  false_positives, false_negatives = analyze_errors(test_metrics, test_dataset=org_dataset)"
      ],
      "metadata": {
        "id": "BiQ9asN0NC9N"
      },
      "execution_count": 57,
      "outputs": []
    },
    {
      "cell_type": "code",
      "source": [
        "display_error_analysis(false_positives, false_negatives)"
      ],
      "metadata": {
        "colab": {
          "base_uri": "https://localhost:8080/"
        },
        "id": "RSSH_Gn6OniJ",
        "outputId": "f2ea339d-b802-46c9-9aac-6920c1cea286"
      },
      "execution_count": 58,
      "outputs": [
        {
          "output_type": "stream",
          "name": "stdout",
          "text": [
            "\n",
            "=== False Positives (Non-toxic classified as Toxic) ===\n",
            "Total False Positives: 687\n",
            "\n",
            "1. Index: 432\n",
            "Text: The proposed rewrite has been placed into the article Hence the article no longer claims that the Bleach liner photos were shot at Maxwell s\n",
            "Confidence: 1.000\n",
            "\n",
            "2. Index: 21653\n",
            "Text: Wanna have dirty nasty sex Firebringervt\n",
            "Confidence: 1.000\n",
            "\n",
            "3. Index: 16169\n",
            "Text: Something complex is most certainly going on here\n",
            "Confidence: 1.000\n",
            "\n",
            "4. Index: 2404\n",
            "Text: Ditto I am overwhelmed by the number of nasty vicious self important and unhelpful self appointed editors on Wikipedia\n",
            "Confidence: 1.000\n",
            "\n",
            "5. Index: 3613\n",
            "Text: Holy Shit Holy shit\n",
            "Confidence: 1.000\n",
            "\n",
            "=== False Negatives (Toxic classified as Non-toxic) ===\n",
            "Total False Negatives: 356\n",
            "\n",
            "1. Index: 801\n",
            "Text: Don t kiss these hoes in the mouth Unless you have to\n",
            "\n",
            "2. Index: 22591\n",
            "Text: MeSheWILL Bring winter back This degrees at am shit is for the birds Get The Fukkk Outta Here Bro\n",
            "\n",
            "3. Index: 8916\n",
            "Text: Ugly bitches like to argue a lot\n",
            "\n",
            "4. Index: 10544\n",
            "Text: I suggest you learn the virtue of silence\n",
            "\n",
            "5. Index: 21841\n",
            "Text: Albert Wesker will return please fix the picture its covering the words above it\n"
          ]
        }
      ]
    },
    {
      "cell_type": "code",
      "source": [
        "import warnings\n",
        "warnings.filterwarnings(\"ignore\")\n",
        "def infer_modernbertsentencevalidator(contextstr, mdlpath='/content/drive/MyDrive/ftmodernbrta/'):\n",
        "    try:\n",
        "        ft_model = CustomModernBERTClassifier()\n",
        "        binpath = mdlpath + '/pytorch_model.bin'\n",
        "        if os.path.exists(binpath):\n",
        "            ft_model.load_state_dict(torch.load(binpath))\n",
        "            ft_model.eval()\n",
        "            tokenizer = AutoTokenizer.from_pretrained(mdlpath)\n",
        "            result = {}\n",
        "\n",
        "            result['contextstr'] = contextstr\n",
        "            with torch.no_grad():\n",
        "                #Tokenize inputs\n",
        "                inputs = tokenizer(contextstr, return_tensors=\"pt\")\n",
        "                output = ft_model(input_ids=inputs['input_ids'], attention_mask=inputs['attention_mask'])\n",
        "                # get the outputtensor\n",
        "                evallabel = output[0].argmax().item()\n",
        "                result['evallabel'] = evallabel\n",
        "                if evallabel==1:\n",
        "                  result['prediction'] = 'offensive'\n",
        "                else:\n",
        "                  result['prediction'] = 'non-offensive'\n",
        "            return result\n",
        "\n",
        "    except Exception as e:\n",
        "        return (f\"Encountered error while performing inference: {e}\")"
      ],
      "metadata": {
        "id": "7a2Qjl56k_ji"
      },
      "execution_count": 98,
      "outputs": []
    },
    {
      "cell_type": "code",
      "source": [
        "infer_modernbertsentencevalidator(contextstr=\"Ugly women like to argue a lot\")"
      ],
      "metadata": {
        "colab": {
          "base_uri": "https://localhost:8080/"
        },
        "id": "WjFx6ln5deG8",
        "outputId": "d311b763-3e64-4ae5-dfd2-21e65fc972cf"
      },
      "execution_count": 99,
      "outputs": [
        {
          "output_type": "execute_result",
          "data": {
            "text/plain": [
              "{'contextstr': 'Ugly women like to argue a lot',\n",
              " 'evallabel': 1,\n",
              " 'prediction': 'offensive'}"
            ]
          },
          "metadata": {},
          "execution_count": 99
        }
      ]
    },
    {
      "cell_type": "code",
      "source": [
        "infer_modernbertsentencevalidator(contextstr=\"you worst fellow\")"
      ],
      "metadata": {
        "colab": {
          "base_uri": "https://localhost:8080/"
        },
        "id": "TY2aYa7pWifY",
        "outputId": "ed079383-25be-4568-a124-110256215f96"
      },
      "execution_count": 100,
      "outputs": [
        {
          "output_type": "execute_result",
          "data": {
            "text/plain": [
              "{'contextstr': 'you worst fellow',\n",
              " 'evallabel': 0,\n",
              " 'prediction': 'non-offensive'}"
            ]
          },
          "metadata": {},
          "execution_count": 100
        }
      ]
    },
    {
      "cell_type": "code",
      "source": [
        "infer_modernbertsentencevalidator(contextstr=\"Yo bag Gucci but you still ugly hoe shut up\")"
      ],
      "metadata": {
        "colab": {
          "base_uri": "https://localhost:8080/"
        },
        "id": "XjJvbtGqGtNz",
        "outputId": "e2440558-cc49-4365-a7cc-0d92709ae738"
      },
      "execution_count": 101,
      "outputs": [
        {
          "output_type": "execute_result",
          "data": {
            "text/plain": [
              "{'contextstr': 'Yo bag Gucci but you still ugly hoe shut up',\n",
              " 'evallabel': 1,\n",
              " 'prediction': 'offensive'}"
            ]
          },
          "metadata": {},
          "execution_count": 101
        }
      ]
    },
    {
      "cell_type": "code",
      "source": [
        "infer_modernbertsentencevalidator(contextstr=\"suggest best strategies to ease stress\")"
      ],
      "metadata": {
        "colab": {
          "base_uri": "https://localhost:8080/"
        },
        "id": "GOf1H08GKiyl",
        "outputId": "4141afd8-5e54-43f1-cb3b-fe6e6349fe1e"
      },
      "execution_count": 102,
      "outputs": [
        {
          "output_type": "execute_result",
          "data": {
            "text/plain": [
              "{'contextstr': 'suggest best strategies to ease stress',\n",
              " 'evallabel': 0,\n",
              " 'prediction': 'non-offensive'}"
            ]
          },
          "metadata": {},
          "execution_count": 102
        }
      ]
    },
    {
      "cell_type": "code",
      "source": [
        "infer_modernbertsentencevalidator(contextstr=\"I'm so fed and vexed up with this bullshit!\")"
      ],
      "metadata": {
        "colab": {
          "base_uri": "https://localhost:8080/"
        },
        "id": "MC89X7dhKsXp",
        "outputId": "df243452-4933-4ddb-d438-222ec8089c0f"
      },
      "execution_count": 103,
      "outputs": [
        {
          "output_type": "execute_result",
          "data": {
            "text/plain": [
              "{'contextstr': \"I'm so fed and vexed up with this bullshit!\",\n",
              " 'evallabel': 1,\n",
              " 'prediction': 'offensive'}"
            ]
          },
          "metadata": {},
          "execution_count": 103
        }
      ]
    },
    {
      "cell_type": "code",
      "source": [
        "infer_modernbertsentencevalidator(contextstr=\"Hello n@@@@@!\")"
      ],
      "metadata": {
        "colab": {
          "base_uri": "https://localhost:8080/"
        },
        "id": "tEh1sMWWLJkn",
        "outputId": "682fd536-3922-4b37-ff2a-08af412089fa"
      },
      "execution_count": 104,
      "outputs": [
        {
          "output_type": "execute_result",
          "data": {
            "text/plain": [
              "{'contextstr': 'Hello n@@@@@!', 'evallabel': 1, 'prediction': 'offensive'}"
            ]
          },
          "metadata": {},
          "execution_count": 104
        }
      ]
    },
    {
      "cell_type": "code",
      "source": [
        "infer_modernbertsentencevalidator(contextstr=\"Please do not vandalize pages as you did with this edit to City of Melbourne If you continue to do so you will be blocked from editing talk\")"
      ],
      "metadata": {
        "colab": {
          "base_uri": "https://localhost:8080/"
        },
        "id": "gUQNjHMIPmCD",
        "outputId": "1a882f97-c6a4-4bc7-ea26-d5c180b6cfcf"
      },
      "execution_count": 105,
      "outputs": [
        {
          "output_type": "execute_result",
          "data": {
            "text/plain": [
              "{'contextstr': 'Please do not vandalize pages as you did with this edit to City of Melbourne If you continue to do so you will be blocked from editing talk',\n",
              " 'evallabel': 0,\n",
              " 'prediction': 'non-offensive'}"
            ]
          },
          "metadata": {},
          "execution_count": 105
        }
      ]
    },
    {
      "cell_type": "code",
      "source": [
        "infer_modernbertsentencevalidator(contextstr=\"Hello n##s!\")"
      ],
      "metadata": {
        "colab": {
          "base_uri": "https://localhost:8080/"
        },
        "id": "ZI1D4XjNONSr",
        "outputId": "16135029-0b2a-4d46-a4e7-f90c3b802f2d"
      },
      "execution_count": 106,
      "outputs": [
        {
          "output_type": "execute_result",
          "data": {
            "text/plain": [
              "{'contextstr': 'Hello n##s!', 'evallabel': 1, 'prediction': 'offensive'}"
            ]
          },
          "metadata": {},
          "execution_count": 106
        }
      ]
    },
    {
      "cell_type": "code",
      "source": [
        "infer_modernbertsentencevalidator(contextstr=\"Hello n#g#!\")"
      ],
      "metadata": {
        "colab": {
          "base_uri": "https://localhost:8080/"
        },
        "id": "pzjX9J9rORi7",
        "outputId": "f7457851-2703-45e4-c951-d9437e3ea499"
      },
      "execution_count": 107,
      "outputs": [
        {
          "output_type": "execute_result",
          "data": {
            "text/plain": [
              "{'contextstr': 'Hello n#g#!', 'evallabel': 1, 'prediction': 'offensive'}"
            ]
          },
          "metadata": {},
          "execution_count": 107
        }
      ]
    },
    {
      "cell_type": "markdown",
      "source": [],
      "metadata": {
        "id": "-KEA8QgVONwe"
      }
    },
    {
      "cell_type": "code",
      "source": [
        "infer_modernbertsentencevalidator(contextstr=\"f**********@@@@22**** off !\")"
      ],
      "metadata": {
        "colab": {
          "base_uri": "https://localhost:8080/"
        },
        "id": "Li7IXLtTLNrS",
        "outputId": "811e27ed-a3f4-4a45-ed6e-a2a060dc711f"
      },
      "execution_count": 108,
      "outputs": [
        {
          "output_type": "execute_result",
          "data": {
            "text/plain": [
              "{'contextstr': 'f**********@@@@22**** off !',\n",
              " 'evallabel': 1,\n",
              " 'prediction': 'offensive'}"
            ]
          },
          "metadata": {},
          "execution_count": 108
        }
      ]
    },
    {
      "cell_type": "code",
      "source": [
        "infer_modernbertsentencevalidator(contextstr=\"I can do anything to you get it to your head and backoff now!\")"
      ],
      "metadata": {
        "colab": {
          "base_uri": "https://localhost:8080/"
        },
        "id": "QnfaqyDJLdv8",
        "outputId": "f43634cc-7c05-40f0-f6f0-9447466b7039"
      },
      "execution_count": 109,
      "outputs": [
        {
          "output_type": "execute_result",
          "data": {
            "text/plain": [
              "{'contextstr': 'I can do anything to you get it to your head and backoff now!',\n",
              " 'evallabel': 0,\n",
              " 'prediction': 'non-offensive'}"
            ]
          },
          "metadata": {},
          "execution_count": 109
        }
      ]
    },
    {
      "cell_type": "code",
      "source": [
        "infer_modernbertsentencevalidator(contextstr=\"You are not a genius to express your views you should stay within your limits!\")"
      ],
      "metadata": {
        "colab": {
          "base_uri": "https://localhost:8080/"
        },
        "id": "zcNxdcEnMad2",
        "outputId": "065cf744-5be6-4ad9-e097-877ec729f95d"
      },
      "execution_count": 110,
      "outputs": [
        {
          "output_type": "execute_result",
          "data": {
            "text/plain": [
              "{'contextstr': 'You are not a genius to express your views you should stay within your limits!',\n",
              " 'evallabel': 0,\n",
              " 'prediction': 'non-offensive'}"
            ]
          },
          "metadata": {},
          "execution_count": 110
        }
      ]
    },
    {
      "cell_type": "code",
      "source": [
        "infer_modernbertsentencevalidator(contextstr=\"It is a wonderfulday!\")"
      ],
      "metadata": {
        "colab": {
          "base_uri": "https://localhost:8080/"
        },
        "id": "Kr6YfmaEOpH9",
        "outputId": "5f89a6c3-8d65-4751-b23b-efd432bb4e4a"
      },
      "execution_count": 111,
      "outputs": [
        {
          "output_type": "execute_result",
          "data": {
            "text/plain": [
              "{'contextstr': 'It is a wonderfulday!',\n",
              " 'evallabel': 0,\n",
              " 'prediction': 'non-offensive'}"
            ]
          },
          "metadata": {},
          "execution_count": 111
        }
      ]
    },
    {
      "cell_type": "code",
      "source": [
        "testlist=[\"You worst idiot\",\"We dont need genius people we need people who can gel with others you should understand your limits\", \"You are asshole\",\"You bloody nasty fellow\",\n",
        "          \"You are pretty\", \"Its a bright morning\", \"its been a great pleasure talking to you\",\n",
        "          \"You shut up and don't change my contributions!!!!\", \"shit-faced loser screw you\",\n",
        "          \"I hate to talk to you\", \"you're blanking my comments you idiot you will pay for this\",\n",
        "          \"He is a devil\", \"Exactly. Problem solved you moron\", \"You sounded like a fag the last three days\",\n",
        "          \"Cursed how much everything happens on earth\", \"Few people do not have good hygiene\",\n",
        "          \"You all should be locked or deserted alone\", \"Yo bag Gucci but you still ugly hoe shut up\",\n",
        "          \"will you jus shut off I dont think we need your opinion there are several great folks here\",\n",
        "          \"I'm so damn tired of this endless bullshit!\", \"I can't believe that jerk would do that for you\",\n",
        "          \"Shut the f*** off and shut off now\", \"This is absolute bullshit you should leave that asshole\", \"you're crazy stiff\", \"What the F**** that stuppid told me to wait\",\n",
        "          \"I cant get that idiot screwed it again why dont he die\", \"She is a bloody woman aiming for him ha my foot\", \"You will get what you deserve you should stay within your limits not aim high for your life\"\n",
        "          ]"
      ],
      "metadata": {
        "id": "L9xCoJ3JplRa"
      },
      "execution_count": 112,
      "outputs": []
    },
    {
      "cell_type": "code",
      "source": [
        "resultdict = {'contextstr': [], 'evallabel': [], 'predictionresult': []}\n",
        "\n",
        "for s in testlist:\n",
        "    t = infer_modernbertsentencevalidator(contextstr=s)\n",
        "    resultdict['contextstr'].append(s)\n",
        "    resultdict['evallabel'].append(t['evallabel'])\n",
        "    resultdict['predictionresult'].append(t['prediction'])\n",
        "resultdf = pd.DataFrame(resultdict)"
      ],
      "metadata": {
        "id": "iZ-px0bYqZoZ"
      },
      "execution_count": 113,
      "outputs": []
    },
    {
      "cell_type": "markdown",
      "source": [
        "# MODERNBERTA RESULTS"
      ],
      "metadata": {
        "id": "UkYPWeUJn6kU"
      }
    },
    {
      "cell_type": "code",
      "source": [
        "resultdf"
      ],
      "metadata": {
        "colab": {
          "base_uri": "https://localhost:8080/",
          "height": 927
        },
        "id": "jOn_h6h8sC_2",
        "outputId": "42c3b53a-57c3-4c9f-d95b-da7c304bc730"
      },
      "execution_count": 80,
      "outputs": [
        {
          "output_type": "execute_result",
          "data": {
            "text/plain": [
              "                                                                                             contextstr  \\\n",
              "0                                                                                       You worst idiot   \n",
              "1   We dont need genius people we need people who can gel with others you should understand your limits   \n",
              "2                                                                                       You are asshole   \n",
              "3                                                                               You bloody nasty fellow   \n",
              "4                                                                                        You are pretty   \n",
              "5                                                                                  Its a bright morning   \n",
              "6                                                              its been a great pleasure talking to you   \n",
              "7                                                     You shut up and don't change my contributions!!!!   \n",
              "8                                                                            shit-faced loser screw you   \n",
              "9                                                                                 I hate to talk to you   \n",
              "10                                          you're blanking my comments you idiot you will pay for this   \n",
              "11                                                                                        He is a devil   \n",
              "12                                                                    Exactly. Problem solved you moron   \n",
              "13                                                           You sounded like a fag the last three days   \n",
              "14                                                          Cursed how much everything happens on earth   \n",
              "15                                                                  Few people do not have good hygiene   \n",
              "16                                                           You all should be locked or deserted alone   \n",
              "17                                                          Yo bag Gucci but you still ugly hoe shut up   \n",
              "18           will you jus shut off I dont think we need your opinion there are several great folks here   \n",
              "19                                                          I'm so damn tired of this endless bullshit!   \n",
              "20                                                      I can't believe that jerk would do that for you   \n",
              "21                                                                   Shut the f*** off and shut off now   \n",
              "22                                              This is absolute bullshit you should leave that asshole   \n",
              "23                                                                                   you're crazy stiff   \n",
              "24                                                          What the F**** that stuppid told me to wait   \n",
              "25                                               I cant get that idiot screwed it again why dont he die   \n",
              "26                                                      She is a bloody woman aiming for him ha my foot   \n",
              "27          You will get what you deserve you should stay within your limits not aim high for your life   \n",
              "\n",
              "    evallabel predictionresult  \n",
              "0           1        offensive  \n",
              "1           0    non-offensive  \n",
              "2           1        offensive  \n",
              "3           1        offensive  \n",
              "4           0    non-offensive  \n",
              "5           0    non-offensive  \n",
              "6           0    non-offensive  \n",
              "7           1        offensive  \n",
              "8           1        offensive  \n",
              "9           0    non-offensive  \n",
              "10          1        offensive  \n",
              "11          1        offensive  \n",
              "12          1        offensive  \n",
              "13          1        offensive  \n",
              "14          0    non-offensive  \n",
              "15          0    non-offensive  \n",
              "16          0    non-offensive  \n",
              "17          1        offensive  \n",
              "18          0    non-offensive  \n",
              "19          1        offensive  \n",
              "20          1        offensive  \n",
              "21          1        offensive  \n",
              "22          1        offensive  \n",
              "23          1        offensive  \n",
              "24          1        offensive  \n",
              "25          1        offensive  \n",
              "26          1        offensive  \n",
              "27          0    non-offensive  "
            ],
            "text/html": [
              "\n",
              "  <div id=\"df-58e2723d-1546-4141-9bc8-8d83044c2e23\" class=\"colab-df-container\">\n",
              "    <div>\n",
              "<style scoped>\n",
              "    .dataframe tbody tr th:only-of-type {\n",
              "        vertical-align: middle;\n",
              "    }\n",
              "\n",
              "    .dataframe tbody tr th {\n",
              "        vertical-align: top;\n",
              "    }\n",
              "\n",
              "    .dataframe thead th {\n",
              "        text-align: right;\n",
              "    }\n",
              "</style>\n",
              "<table border=\"1\" class=\"dataframe\">\n",
              "  <thead>\n",
              "    <tr style=\"text-align: right;\">\n",
              "      <th></th>\n",
              "      <th>contextstr</th>\n",
              "      <th>evallabel</th>\n",
              "      <th>predictionresult</th>\n",
              "    </tr>\n",
              "  </thead>\n",
              "  <tbody>\n",
              "    <tr>\n",
              "      <th>0</th>\n",
              "      <td>You worst idiot</td>\n",
              "      <td>1</td>\n",
              "      <td>offensive</td>\n",
              "    </tr>\n",
              "    <tr>\n",
              "      <th>1</th>\n",
              "      <td>We dont need genius people we need people who can gel with others you should understand your limits</td>\n",
              "      <td>0</td>\n",
              "      <td>non-offensive</td>\n",
              "    </tr>\n",
              "    <tr>\n",
              "      <th>2</th>\n",
              "      <td>You are asshole</td>\n",
              "      <td>1</td>\n",
              "      <td>offensive</td>\n",
              "    </tr>\n",
              "    <tr>\n",
              "      <th>3</th>\n",
              "      <td>You bloody nasty fellow</td>\n",
              "      <td>1</td>\n",
              "      <td>offensive</td>\n",
              "    </tr>\n",
              "    <tr>\n",
              "      <th>4</th>\n",
              "      <td>You are pretty</td>\n",
              "      <td>0</td>\n",
              "      <td>non-offensive</td>\n",
              "    </tr>\n",
              "    <tr>\n",
              "      <th>5</th>\n",
              "      <td>Its a bright morning</td>\n",
              "      <td>0</td>\n",
              "      <td>non-offensive</td>\n",
              "    </tr>\n",
              "    <tr>\n",
              "      <th>6</th>\n",
              "      <td>its been a great pleasure talking to you</td>\n",
              "      <td>0</td>\n",
              "      <td>non-offensive</td>\n",
              "    </tr>\n",
              "    <tr>\n",
              "      <th>7</th>\n",
              "      <td>You shut up and don't change my contributions!!!!</td>\n",
              "      <td>1</td>\n",
              "      <td>offensive</td>\n",
              "    </tr>\n",
              "    <tr>\n",
              "      <th>8</th>\n",
              "      <td>shit-faced loser screw you</td>\n",
              "      <td>1</td>\n",
              "      <td>offensive</td>\n",
              "    </tr>\n",
              "    <tr>\n",
              "      <th>9</th>\n",
              "      <td>I hate to talk to you</td>\n",
              "      <td>0</td>\n",
              "      <td>non-offensive</td>\n",
              "    </tr>\n",
              "    <tr>\n",
              "      <th>10</th>\n",
              "      <td>you're blanking my comments you idiot you will pay for this</td>\n",
              "      <td>1</td>\n",
              "      <td>offensive</td>\n",
              "    </tr>\n",
              "    <tr>\n",
              "      <th>11</th>\n",
              "      <td>He is a devil</td>\n",
              "      <td>1</td>\n",
              "      <td>offensive</td>\n",
              "    </tr>\n",
              "    <tr>\n",
              "      <th>12</th>\n",
              "      <td>Exactly. Problem solved you moron</td>\n",
              "      <td>1</td>\n",
              "      <td>offensive</td>\n",
              "    </tr>\n",
              "    <tr>\n",
              "      <th>13</th>\n",
              "      <td>You sounded like a fag the last three days</td>\n",
              "      <td>1</td>\n",
              "      <td>offensive</td>\n",
              "    </tr>\n",
              "    <tr>\n",
              "      <th>14</th>\n",
              "      <td>Cursed how much everything happens on earth</td>\n",
              "      <td>0</td>\n",
              "      <td>non-offensive</td>\n",
              "    </tr>\n",
              "    <tr>\n",
              "      <th>15</th>\n",
              "      <td>Few people do not have good hygiene</td>\n",
              "      <td>0</td>\n",
              "      <td>non-offensive</td>\n",
              "    </tr>\n",
              "    <tr>\n",
              "      <th>16</th>\n",
              "      <td>You all should be locked or deserted alone</td>\n",
              "      <td>0</td>\n",
              "      <td>non-offensive</td>\n",
              "    </tr>\n",
              "    <tr>\n",
              "      <th>17</th>\n",
              "      <td>Yo bag Gucci but you still ugly hoe shut up</td>\n",
              "      <td>1</td>\n",
              "      <td>offensive</td>\n",
              "    </tr>\n",
              "    <tr>\n",
              "      <th>18</th>\n",
              "      <td>will you jus shut off I dont think we need your opinion there are several great folks here</td>\n",
              "      <td>0</td>\n",
              "      <td>non-offensive</td>\n",
              "    </tr>\n",
              "    <tr>\n",
              "      <th>19</th>\n",
              "      <td>I'm so damn tired of this endless bullshit!</td>\n",
              "      <td>1</td>\n",
              "      <td>offensive</td>\n",
              "    </tr>\n",
              "    <tr>\n",
              "      <th>20</th>\n",
              "      <td>I can't believe that jerk would do that for you</td>\n",
              "      <td>1</td>\n",
              "      <td>offensive</td>\n",
              "    </tr>\n",
              "    <tr>\n",
              "      <th>21</th>\n",
              "      <td>Shut the f*** off and shut off now</td>\n",
              "      <td>1</td>\n",
              "      <td>offensive</td>\n",
              "    </tr>\n",
              "    <tr>\n",
              "      <th>22</th>\n",
              "      <td>This is absolute bullshit you should leave that asshole</td>\n",
              "      <td>1</td>\n",
              "      <td>offensive</td>\n",
              "    </tr>\n",
              "    <tr>\n",
              "      <th>23</th>\n",
              "      <td>you're crazy stiff</td>\n",
              "      <td>1</td>\n",
              "      <td>offensive</td>\n",
              "    </tr>\n",
              "    <tr>\n",
              "      <th>24</th>\n",
              "      <td>What the F**** that stuppid told me to wait</td>\n",
              "      <td>1</td>\n",
              "      <td>offensive</td>\n",
              "    </tr>\n",
              "    <tr>\n",
              "      <th>25</th>\n",
              "      <td>I cant get that idiot screwed it again why dont he die</td>\n",
              "      <td>1</td>\n",
              "      <td>offensive</td>\n",
              "    </tr>\n",
              "    <tr>\n",
              "      <th>26</th>\n",
              "      <td>She is a bloody woman aiming for him ha my foot</td>\n",
              "      <td>1</td>\n",
              "      <td>offensive</td>\n",
              "    </tr>\n",
              "    <tr>\n",
              "      <th>27</th>\n",
              "      <td>You will get what you deserve you should stay within your limits not aim high for your life</td>\n",
              "      <td>0</td>\n",
              "      <td>non-offensive</td>\n",
              "    </tr>\n",
              "  </tbody>\n",
              "</table>\n",
              "</div>\n",
              "    <div class=\"colab-df-buttons\">\n",
              "\n",
              "  <div class=\"colab-df-container\">\n",
              "    <button class=\"colab-df-convert\" onclick=\"convertToInteractive('df-58e2723d-1546-4141-9bc8-8d83044c2e23')\"\n",
              "            title=\"Convert this dataframe to an interactive table.\"\n",
              "            style=\"display:none;\">\n",
              "\n",
              "  <svg xmlns=\"http://www.w3.org/2000/svg\" height=\"24px\" viewBox=\"0 -960 960 960\">\n",
              "    <path d=\"M120-120v-720h720v720H120Zm60-500h600v-160H180v160Zm220 220h160v-160H400v160Zm0 220h160v-160H400v160ZM180-400h160v-160H180v160Zm440 0h160v-160H620v160ZM180-180h160v-160H180v160Zm440 0h160v-160H620v160Z\"/>\n",
              "  </svg>\n",
              "    </button>\n",
              "\n",
              "  <style>\n",
              "    .colab-df-container {\n",
              "      display:flex;\n",
              "      gap: 12px;\n",
              "    }\n",
              "\n",
              "    .colab-df-convert {\n",
              "      background-color: #E8F0FE;\n",
              "      border: none;\n",
              "      border-radius: 50%;\n",
              "      cursor: pointer;\n",
              "      display: none;\n",
              "      fill: #1967D2;\n",
              "      height: 32px;\n",
              "      padding: 0 0 0 0;\n",
              "      width: 32px;\n",
              "    }\n",
              "\n",
              "    .colab-df-convert:hover {\n",
              "      background-color: #E2EBFA;\n",
              "      box-shadow: 0px 1px 2px rgba(60, 64, 67, 0.3), 0px 1px 3px 1px rgba(60, 64, 67, 0.15);\n",
              "      fill: #174EA6;\n",
              "    }\n",
              "\n",
              "    .colab-df-buttons div {\n",
              "      margin-bottom: 4px;\n",
              "    }\n",
              "\n",
              "    [theme=dark] .colab-df-convert {\n",
              "      background-color: #3B4455;\n",
              "      fill: #D2E3FC;\n",
              "    }\n",
              "\n",
              "    [theme=dark] .colab-df-convert:hover {\n",
              "      background-color: #434B5C;\n",
              "      box-shadow: 0px 1px 3px 1px rgba(0, 0, 0, 0.15);\n",
              "      filter: drop-shadow(0px 1px 2px rgba(0, 0, 0, 0.3));\n",
              "      fill: #FFFFFF;\n",
              "    }\n",
              "  </style>\n",
              "\n",
              "    <script>\n",
              "      const buttonEl =\n",
              "        document.querySelector('#df-58e2723d-1546-4141-9bc8-8d83044c2e23 button.colab-df-convert');\n",
              "      buttonEl.style.display =\n",
              "        google.colab.kernel.accessAllowed ? 'block' : 'none';\n",
              "\n",
              "      async function convertToInteractive(key) {\n",
              "        const element = document.querySelector('#df-58e2723d-1546-4141-9bc8-8d83044c2e23');\n",
              "        const dataTable =\n",
              "          await google.colab.kernel.invokeFunction('convertToInteractive',\n",
              "                                                    [key], {});\n",
              "        if (!dataTable) return;\n",
              "\n",
              "        const docLinkHtml = 'Like what you see? Visit the ' +\n",
              "          '<a target=\"_blank\" href=https://colab.research.google.com/notebooks/data_table.ipynb>data table notebook</a>'\n",
              "          + ' to learn more about interactive tables.';\n",
              "        element.innerHTML = '';\n",
              "        dataTable['output_type'] = 'display_data';\n",
              "        await google.colab.output.renderOutput(dataTable, element);\n",
              "        const docLink = document.createElement('div');\n",
              "        docLink.innerHTML = docLinkHtml;\n",
              "        element.appendChild(docLink);\n",
              "      }\n",
              "    </script>\n",
              "  </div>\n",
              "\n",
              "\n",
              "<div id=\"df-5be4e1ff-1f57-4210-8c71-e18da3e8cd1a\">\n",
              "  <button class=\"colab-df-quickchart\" onclick=\"quickchart('df-5be4e1ff-1f57-4210-8c71-e18da3e8cd1a')\"\n",
              "            title=\"Suggest charts\"\n",
              "            style=\"display:none;\">\n",
              "\n",
              "<svg xmlns=\"http://www.w3.org/2000/svg\" height=\"24px\"viewBox=\"0 0 24 24\"\n",
              "     width=\"24px\">\n",
              "    <g>\n",
              "        <path d=\"M19 3H5c-1.1 0-2 .9-2 2v14c0 1.1.9 2 2 2h14c1.1 0 2-.9 2-2V5c0-1.1-.9-2-2-2zM9 17H7v-7h2v7zm4 0h-2V7h2v10zm4 0h-2v-4h2v4z\"/>\n",
              "    </g>\n",
              "</svg>\n",
              "  </button>\n",
              "\n",
              "<style>\n",
              "  .colab-df-quickchart {\n",
              "      --bg-color: #E8F0FE;\n",
              "      --fill-color: #1967D2;\n",
              "      --hover-bg-color: #E2EBFA;\n",
              "      --hover-fill-color: #174EA6;\n",
              "      --disabled-fill-color: #AAA;\n",
              "      --disabled-bg-color: #DDD;\n",
              "  }\n",
              "\n",
              "  [theme=dark] .colab-df-quickchart {\n",
              "      --bg-color: #3B4455;\n",
              "      --fill-color: #D2E3FC;\n",
              "      --hover-bg-color: #434B5C;\n",
              "      --hover-fill-color: #FFFFFF;\n",
              "      --disabled-bg-color: #3B4455;\n",
              "      --disabled-fill-color: #666;\n",
              "  }\n",
              "\n",
              "  .colab-df-quickchart {\n",
              "    background-color: var(--bg-color);\n",
              "    border: none;\n",
              "    border-radius: 50%;\n",
              "    cursor: pointer;\n",
              "    display: none;\n",
              "    fill: var(--fill-color);\n",
              "    height: 32px;\n",
              "    padding: 0;\n",
              "    width: 32px;\n",
              "  }\n",
              "\n",
              "  .colab-df-quickchart:hover {\n",
              "    background-color: var(--hover-bg-color);\n",
              "    box-shadow: 0 1px 2px rgba(60, 64, 67, 0.3), 0 1px 3px 1px rgba(60, 64, 67, 0.15);\n",
              "    fill: var(--button-hover-fill-color);\n",
              "  }\n",
              "\n",
              "  .colab-df-quickchart-complete:disabled,\n",
              "  .colab-df-quickchart-complete:disabled:hover {\n",
              "    background-color: var(--disabled-bg-color);\n",
              "    fill: var(--disabled-fill-color);\n",
              "    box-shadow: none;\n",
              "  }\n",
              "\n",
              "  .colab-df-spinner {\n",
              "    border: 2px solid var(--fill-color);\n",
              "    border-color: transparent;\n",
              "    border-bottom-color: var(--fill-color);\n",
              "    animation:\n",
              "      spin 1s steps(1) infinite;\n",
              "  }\n",
              "\n",
              "  @keyframes spin {\n",
              "    0% {\n",
              "      border-color: transparent;\n",
              "      border-bottom-color: var(--fill-color);\n",
              "      border-left-color: var(--fill-color);\n",
              "    }\n",
              "    20% {\n",
              "      border-color: transparent;\n",
              "      border-left-color: var(--fill-color);\n",
              "      border-top-color: var(--fill-color);\n",
              "    }\n",
              "    30% {\n",
              "      border-color: transparent;\n",
              "      border-left-color: var(--fill-color);\n",
              "      border-top-color: var(--fill-color);\n",
              "      border-right-color: var(--fill-color);\n",
              "    }\n",
              "    40% {\n",
              "      border-color: transparent;\n",
              "      border-right-color: var(--fill-color);\n",
              "      border-top-color: var(--fill-color);\n",
              "    }\n",
              "    60% {\n",
              "      border-color: transparent;\n",
              "      border-right-color: var(--fill-color);\n",
              "    }\n",
              "    80% {\n",
              "      border-color: transparent;\n",
              "      border-right-color: var(--fill-color);\n",
              "      border-bottom-color: var(--fill-color);\n",
              "    }\n",
              "    90% {\n",
              "      border-color: transparent;\n",
              "      border-bottom-color: var(--fill-color);\n",
              "    }\n",
              "  }\n",
              "</style>\n",
              "\n",
              "  <script>\n",
              "    async function quickchart(key) {\n",
              "      const quickchartButtonEl =\n",
              "        document.querySelector('#' + key + ' button');\n",
              "      quickchartButtonEl.disabled = true;  // To prevent multiple clicks.\n",
              "      quickchartButtonEl.classList.add('colab-df-spinner');\n",
              "      try {\n",
              "        const charts = await google.colab.kernel.invokeFunction(\n",
              "            'suggestCharts', [key], {});\n",
              "      } catch (error) {\n",
              "        console.error('Error during call to suggestCharts:', error);\n",
              "      }\n",
              "      quickchartButtonEl.classList.remove('colab-df-spinner');\n",
              "      quickchartButtonEl.classList.add('colab-df-quickchart-complete');\n",
              "    }\n",
              "    (() => {\n",
              "      let quickchartButtonEl =\n",
              "        document.querySelector('#df-5be4e1ff-1f57-4210-8c71-e18da3e8cd1a button');\n",
              "      quickchartButtonEl.style.display =\n",
              "        google.colab.kernel.accessAllowed ? 'block' : 'none';\n",
              "    })();\n",
              "  </script>\n",
              "</div>\n",
              "\n",
              "  <div id=\"id_a4a15c76-334e-4fcc-b806-aaeb5083b005\">\n",
              "    <style>\n",
              "      .colab-df-generate {\n",
              "        background-color: #E8F0FE;\n",
              "        border: none;\n",
              "        border-radius: 50%;\n",
              "        cursor: pointer;\n",
              "        display: none;\n",
              "        fill: #1967D2;\n",
              "        height: 32px;\n",
              "        padding: 0 0 0 0;\n",
              "        width: 32px;\n",
              "      }\n",
              "\n",
              "      .colab-df-generate:hover {\n",
              "        background-color: #E2EBFA;\n",
              "        box-shadow: 0px 1px 2px rgba(60, 64, 67, 0.3), 0px 1px 3px 1px rgba(60, 64, 67, 0.15);\n",
              "        fill: #174EA6;\n",
              "      }\n",
              "\n",
              "      [theme=dark] .colab-df-generate {\n",
              "        background-color: #3B4455;\n",
              "        fill: #D2E3FC;\n",
              "      }\n",
              "\n",
              "      [theme=dark] .colab-df-generate:hover {\n",
              "        background-color: #434B5C;\n",
              "        box-shadow: 0px 1px 3px 1px rgba(0, 0, 0, 0.15);\n",
              "        filter: drop-shadow(0px 1px 2px rgba(0, 0, 0, 0.3));\n",
              "        fill: #FFFFFF;\n",
              "      }\n",
              "    </style>\n",
              "    <button class=\"colab-df-generate\" onclick=\"generateWithVariable('resultdf')\"\n",
              "            title=\"Generate code using this dataframe.\"\n",
              "            style=\"display:none;\">\n",
              "\n",
              "  <svg xmlns=\"http://www.w3.org/2000/svg\" height=\"24px\"viewBox=\"0 0 24 24\"\n",
              "       width=\"24px\">\n",
              "    <path d=\"M7,19H8.4L18.45,9,17,7.55,7,17.6ZM5,21V16.75L18.45,3.32a2,2,0,0,1,2.83,0l1.4,1.43a1.91,1.91,0,0,1,.58,1.4,1.91,1.91,0,0,1-.58,1.4L9.25,21ZM18.45,9,17,7.55Zm-12,3A5.31,5.31,0,0,0,4.9,8.1,5.31,5.31,0,0,0,1,6.5,5.31,5.31,0,0,0,4.9,4.9,5.31,5.31,0,0,0,6.5,1,5.31,5.31,0,0,0,8.1,4.9,5.31,5.31,0,0,0,12,6.5,5.46,5.46,0,0,0,6.5,12Z\"/>\n",
              "  </svg>\n",
              "    </button>\n",
              "    <script>\n",
              "      (() => {\n",
              "      const buttonEl =\n",
              "        document.querySelector('#id_a4a15c76-334e-4fcc-b806-aaeb5083b005 button.colab-df-generate');\n",
              "      buttonEl.style.display =\n",
              "        google.colab.kernel.accessAllowed ? 'block' : 'none';\n",
              "\n",
              "      buttonEl.onclick = () => {\n",
              "        google.colab.notebook.generateWithVariable('resultdf');\n",
              "      }\n",
              "      })();\n",
              "    </script>\n",
              "  </div>\n",
              "\n",
              "    </div>\n",
              "  </div>\n"
            ],
            "application/vnd.google.colaboratory.intrinsic+json": {
              "type": "dataframe",
              "variable_name": "resultdf",
              "summary": "{\n  \"name\": \"resultdf\",\n  \"rows\": 28,\n  \"fields\": [\n    {\n      \"column\": \"contextstr\",\n      \"properties\": {\n        \"dtype\": \"string\",\n        \"num_unique_values\": 28,\n        \"samples\": [\n          \"I hate to talk to you\",\n          \"I cant get that idiot screwed it again why dont he die\",\n          \"shit-faced loser screw you\"\n        ],\n        \"semantic_type\": \"\",\n        \"description\": \"\"\n      }\n    },\n    {\n      \"column\": \"evallabel\",\n      \"properties\": {\n        \"dtype\": \"number\",\n        \"std\": 0,\n        \"min\": 0,\n        \"max\": 1,\n        \"num_unique_values\": 2,\n        \"samples\": [\n          0,\n          1\n        ],\n        \"semantic_type\": \"\",\n        \"description\": \"\"\n      }\n    },\n    {\n      \"column\": \"predictionresult\",\n      \"properties\": {\n        \"dtype\": \"category\",\n        \"num_unique_values\": 2,\n        \"samples\": [\n          \"non-offensive\",\n          \"offensive\"\n        ],\n        \"semantic_type\": \"\",\n        \"description\": \"\"\n      }\n    }\n  ]\n}"
            }
          },
          "metadata": {},
          "execution_count": 80
        }
      ]
    },
    {
      "cell_type": "code",
      "source": [],
      "metadata": {
        "id": "Nw8MIgviFQAC"
      },
      "execution_count": null,
      "outputs": []
    },
    {
      "cell_type": "markdown",
      "source": [],
      "metadata": {
        "id": "xhypeFPensZc"
      }
    }
  ]
}